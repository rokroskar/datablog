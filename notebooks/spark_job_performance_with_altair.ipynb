{
 "cells": [
  {
   "cell_type": "markdown",
   "metadata": {},
   "source": [
    "[Spark](http://spark.apache.org) is a general-purpose distributed computing framework, a popular successor in the Big Data world to Hadoop. As of this writing it's in version 2.0.2 with a useful high-level API and growing adoption in many different applications. \n",
    "\n",
    "\n",
    "## Spark web User Interface\n",
    "\n",
    "If you're coming from other types of distributed computing, Spark feels very user-friendly. There is a good-looking UI (in comparison, Hadoop's UI looks like something from 20 years ago) that is spawned automatically each time you launch a Spark job and gives you some critical information about your job *in real-time*. You can see right away, for example, if your parallel workload is poorly balanced by checking the runtime percentiles of the individual tasks that make up an execution stage. \n",
    "\n",
    "![Spark stage UI](./spark_ui.png) \n",
    "\n",
    "This type of information is great, but running Spark applications involves *many* moving parts: there is the Java JVM, the network and disk I/O, scratch disks, processes distributed over hosts that may be hosting other processes. Seeing some of these runtime statistics in a table makes it difficult to answer questions like \"are the slow-running tasks linked to a particular host?\" which is what you need to be asking when trying to understand an application's requirements and limitations. \n",
    "\n",
    "How many times have I thought something along the lines of \"if only I could see a histogram of task runtime by executor!\" \n",
    "\n",
    "Well, it turns out that all the data is there, you just need to grab it. "
   ]
  },
  {
   "cell_type": "markdown",
   "metadata": {},
   "source": [
    "## Spark's secret-not-secret REST API\n",
    "\n",
    "The same data that is presented in the `SparkContext` web UI is available through a [REST API](http://spark.apache.org/docs/latest/monitoring.html#rest-api). It's a relatively simple matter to start gathering information through this API. \n",
    "\n",
    "For a simple demonstration, lets make a plot of mean task execution time per executor, which seems like something we'd want to know if, for example, we suspect that there might be a problem with our distributed filesystem etc. \n",
    "\n",
    "The API provides information in an `application/stage/task` hierarchy - we therefore need to drill down all the way to the task-level. To query the REST API we'll use the python `requests` library. We start by extracting the application id"
   ]
  },
  {
   "cell_type": "code",
   "execution_count": 3,
   "metadata": {
    "collapsed": true
   },
   "outputs": [],
   "source": [
    "import os\n",
    "os.environ['http_proxy']=\"\""
   ]
  },
  {
   "cell_type": "code",
   "execution_count": 9,
   "metadata": {
    "collapsed": true
   },
   "outputs": [],
   "source": [
    "import requests\n",
    "# the base endpoint URL\n",
    "host = '10.205.19.2'\n",
    "base_url = 'http://{host}:4040/api/v1'.format(host=host) \n",
    "\n",
    "def get_app(base_url):\n",
    "    response = requests.get(base_url+'/applications')\n",
    "    return response.json()[0]['id']"
   ]
  },
  {
   "cell_type": "code",
   "execution_count": 10,
   "metadata": {
    "collapsed": false
   },
   "outputs": [
    {
     "data": {
      "text/plain": [
       "u'app-20161209145847-0000'"
      ]
     },
     "execution_count": 10,
     "metadata": {},
     "output_type": "execute_result"
    }
   ],
   "source": [
    "get_app(base_url)"
   ]
  },
  {
   "cell_type": "markdown",
   "metadata": {
    "collapsed": true
   },
   "source": [
    "Using this app ID, we can grab the stages: "
   ]
  },
  {
   "cell_type": "code",
   "execution_count": 14,
   "metadata": {
    "collapsed": true
   },
   "outputs": [],
   "source": [
    "def get_stages(base_url):\n",
    "    response = requests.get(base_url+'/applications/'+get_app(base_url)+'/stages')\n",
    "    stages = response.json()\n",
    "    return [(stage['stageId'], stage['name']) for stage in stages]"
   ]
  },
  {
   "cell_type": "code",
   "execution_count": 17,
   "metadata": {
    "collapsed": false
   },
   "outputs": [
    {
     "name": "stdout",
     "output_type": "stream",
     "text": [
      "0 partitionBy at /cluster/project/sis/ri/roskarr/spark-fof/spark_fof/spark_fof.py:596\n",
      "1 partitionBy at /cluster/project/sis/ri/roskarr/spark-fof/spark_fof/spark_fof.py:195\n",
      "2 groupByKey at /cluster/project/sis/ri/roskarr/spark-fof/spark_fof/spark_fof.py:258\n",
      "3 distinct at /cluster/project/sis/ri/roskarr/spark-fof/spark_fof/spark_fof.py:282\n",
      "4 runJob at PythonRDD.scala:441\n"
     ]
    }
   ],
   "source": [
    "for id, stagename in sorted(get_stages(base_url)):\n",
    "    print id, stagename"
   ]
  },
  {
   "cell_type": "markdown",
   "metadata": {},
   "source": [
    "And finally, picking a stage we can grab data about all of its tasks. We'll turn this into a `pandas` `DataFrame` so it will be easier to work with later on. "
   ]
  },
  {
   "cell_type": "code",
   "execution_count": 20,
   "metadata": {
    "collapsed": true
   },
   "outputs": [],
   "source": [
    "import pandas as pd \n",
    "\n",
    "def get_tasks(base_url, stageid):\n",
    "    if isinstance(stageid,int): \n",
    "        response = requests.get(base_url+'/applications/'+get_app(base_url)+'/stages/'+str(stageid))\n",
    "        j = response.json()\n",
    "        res = [(i,t['host'],t['executorId'],t['taskMetrics']['executorRunTime']) for i,t in j[0]['tasks'].iteritems()]\n",
    "        columns = ['task_id', 'host_ip', 'executor_id', 'task_time']\n",
    "        res = pd.DataFrame(res,columns=columns)\n",
    "    elif isinstance(stageid,list):\n",
    "        columns = ['task_id', 'host_ip', 'executor_id', 'task_time', 'stageid']\n",
    "        res = pd.DataFrame(columns=columns)\n",
    "        for s in stageid: \n",
    "            df = get_tasks(s)\n",
    "            df['stageid'] = s\n",
    "            res = res.append(df)\n",
    "    return res"
   ]
  },
  {
   "cell_type": "code",
   "execution_count": 24,
   "metadata": {
    "collapsed": false
   },
   "outputs": [
    {
     "data": {
      "text/html": [
       "<div>\n",
       "<table border=\"1\" class=\"dataframe\">\n",
       "  <thead>\n",
       "    <tr style=\"text-align: right;\">\n",
       "      <th></th>\n",
       "      <th>task_id</th>\n",
       "      <th>host_ip</th>\n",
       "      <th>executor_id</th>\n",
       "      <th>task_time</th>\n",
       "    </tr>\n",
       "  </thead>\n",
       "  <tbody>\n",
       "    <tr>\n",
       "      <th>0</th>\n",
       "      <td>1383</td>\n",
       "      <td>10.205.4.13</td>\n",
       "      <td>9</td>\n",
       "      <td>103431</td>\n",
       "    </tr>\n",
       "    <tr>\n",
       "      <th>1</th>\n",
       "      <td>1269</td>\n",
       "      <td>10.205.11.11</td>\n",
       "      <td>44</td>\n",
       "      <td>96142</td>\n",
       "    </tr>\n",
       "    <tr>\n",
       "      <th>2</th>\n",
       "      <td>1268</td>\n",
       "      <td>10.205.4.13</td>\n",
       "      <td>58</td>\n",
       "      <td>127085</td>\n",
       "    </tr>\n",
       "    <tr>\n",
       "      <th>3</th>\n",
       "      <td>818</td>\n",
       "      <td>10.205.12.55</td>\n",
       "      <td>35</td>\n",
       "      <td>85359</td>\n",
       "    </tr>\n",
       "    <tr>\n",
       "      <th>4</th>\n",
       "      <td>819</td>\n",
       "      <td>10.205.11.61</td>\n",
       "      <td>67</td>\n",
       "      <td>116538</td>\n",
       "    </tr>\n",
       "  </tbody>\n",
       "</table>\n",
       "</div>"
      ],
      "text/plain": [
       "  task_id       host_ip executor_id  task_time\n",
       "0    1383   10.205.4.13           9     103431\n",
       "1    1269  10.205.11.11          44      96142\n",
       "2    1268   10.205.4.13          58     127085\n",
       "3     818  10.205.12.55          35      85359\n",
       "4     819  10.205.11.61          67     116538"
      ]
     },
     "execution_count": 24,
     "metadata": {},
     "output_type": "execute_result"
    }
   ],
   "source": [
    "task_df = get_tasks(base_url,1)\n",
    "task_df.head()"
   ]
  },
  {
   "cell_type": "markdown",
   "metadata": {},
   "source": [
    "Finally, we can create a histogram of time it took for each task to run. In this case, I know that this task is mainly performing I/O from a shared filesystem so it's a good test of whether it's performing as expected. "
   ]
  },
  {
   "cell_type": "code",
   "execution_count": 25,
   "metadata": {
    "collapsed": true
   },
   "outputs": [],
   "source": [
    "%matplotlib inline\n",
    "import seaborn as sns"
   ]
  },
  {
   "cell_type": "code",
   "execution_count": 26,
   "metadata": {
    "collapsed": false
   },
   "outputs": [
    {
     "data": {
      "text/plain": [
       "<matplotlib.axes._subplots.AxesSubplot at 0x2b608ae1c9d0>"
      ]
     },
     "execution_count": 26,
     "metadata": {},
     "output_type": "execute_result"
    },
    {
     "data": {
      "image/png": "[encoded data removed]",
      "text/plain": [
       "<matplotlib.figure.Figure at 0x2b6079110d90>"
      ]
     },
     "metadata": {},
     "output_type": "display_data"
    }
   ],
   "source": [
    "sns.distplot(task_df['task_time']/1000., kde=False, bins=20, axlabel='Task runtime (s)')"
   ]
  },
  {
   "cell_type": "code",
   "execution_count": null,
   "metadata": {
    "collapsed": true
   },
   "outputs": [],
   "source": []
  }
 ],
 "metadata": {
  "kernelspec": {
   "display_name": "Python 2",
   "language": "python",
   "name": "python2"
  },
  "language_info": {
   "codemirror_mode": {
    "name": "ipython",
    "version": 2
   },
   "file_extension": ".py",
   "mimetype": "text/x-python",
   "name": "python",
   "nbconvert_exporter": "python",
   "pygments_lexer": "ipython2",
   "version": "2.7.10"
  }
 },
 "nbformat": 4,
 "nbformat_minor": 0
}
